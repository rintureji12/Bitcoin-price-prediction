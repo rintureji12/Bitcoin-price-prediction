{
  "nbformat": 4,
  "nbformat_minor": 0,
  "metadata": {
    "colab": {
      "name": "Bitcoin price prediction.ipynb",
      "provenance": [],
      "authorship_tag": "ABX9TyMoeKgDLYGXuq0LTbrP6Jvt"
    },
    "kernelspec": {
      "name": "python3",
      "display_name": "Python 3"
    },
    "language_info": {
      "name": "python"
    }
  },
  "cells": [
    {
      "cell_type": "markdown",
      "metadata": {
        "id": "9D627ku-j0nQ"
      },
      "source": [
        "## **BITCOIN PRICE PREDICTION**\n",
        "### This project deals with predicting the Bitcoin price in the future using LinearRegression"
      ]
    },
    {
      "cell_type": "markdown",
      "metadata": {
        "id": "fHgnXOrenXGM"
      },
      "source": [
        "## loading dataset"
      ]
    },
    {
      "cell_type": "code",
      "metadata": {
        "colab": {
          "base_uri": "https://localhost:8080/",
          "height": 224
        },
        "id": "mJHrnGicnfiC",
        "outputId": "44b24101-18ad-4c78-be69-e0e3f353eb02"
      },
      "source": [
        "import pandas as pd\n",
        "df=pd.read_csv('https://raw.githubusercontent.com/WidhyaOrg/datasets/master/bitcoin_dataset.csv')\n",
        "df.head()"
      ],
      "execution_count": 1,
      "outputs": [
        {
          "output_type": "execute_result",
          "data": {
            "text/html": [
              "<div>\n",
              "<style scoped>\n",
              "    .dataframe tbody tr th:only-of-type {\n",
              "        vertical-align: middle;\n",
              "    }\n",
              "\n",
              "    .dataframe tbody tr th {\n",
              "        vertical-align: top;\n",
              "    }\n",
              "\n",
              "    .dataframe thead th {\n",
              "        text-align: right;\n",
              "    }\n",
              "</style>\n",
              "<table border=\"1\" class=\"dataframe\">\n",
              "  <thead>\n",
              "    <tr style=\"text-align: right;\">\n",
              "      <th></th>\n",
              "      <th>Date</th>\n",
              "      <th>btc_market_price</th>\n",
              "      <th>btc_total_bitcoins</th>\n",
              "      <th>btc_market_cap</th>\n",
              "      <th>btc_trade_volume</th>\n",
              "      <th>btc_blocks_size</th>\n",
              "      <th>btc_avg_block_size</th>\n",
              "      <th>btc_n_orphaned_blocks</th>\n",
              "      <th>btc_n_transactions_per_block</th>\n",
              "      <th>btc_median_confirmation_time</th>\n",
              "      <th>btc_hash_rate</th>\n",
              "      <th>btc_difficulty</th>\n",
              "      <th>btc_miners_revenue</th>\n",
              "      <th>btc_transaction_fees</th>\n",
              "      <th>btc_cost_per_transaction_percent</th>\n",
              "      <th>btc_cost_per_transaction</th>\n",
              "      <th>btc_n_unique_addresses</th>\n",
              "      <th>btc_n_transactions</th>\n",
              "      <th>btc_n_transactions_total</th>\n",
              "      <th>btc_n_transactions_excluding_popular</th>\n",
              "      <th>btc_n_transactions_excluding_chains_longer_than_100</th>\n",
              "      <th>btc_output_volume</th>\n",
              "      <th>btc_estimated_transaction_volume</th>\n",
              "      <th>btc_estimated_transaction_volume_usd</th>\n",
              "    </tr>\n",
              "  </thead>\n",
              "  <tbody>\n",
              "    <tr>\n",
              "      <th>0</th>\n",
              "      <td>2/17/2010</td>\n",
              "      <td>0.0</td>\n",
              "      <td>2043200.0</td>\n",
              "      <td>0.0</td>\n",
              "      <td>0.0</td>\n",
              "      <td>0.0</td>\n",
              "      <td>0.000235</td>\n",
              "      <td>0</td>\n",
              "      <td>1.0</td>\n",
              "      <td>0.0</td>\n",
              "      <td>0.000029</td>\n",
              "      <td>2.527738</td>\n",
              "      <td>0.0</td>\n",
              "      <td>0.0</td>\n",
              "      <td>31.781022</td>\n",
              "      <td>0.0</td>\n",
              "      <td>241</td>\n",
              "      <td>244</td>\n",
              "      <td>41240</td>\n",
              "      <td>244</td>\n",
              "      <td>244</td>\n",
              "      <td>65173.13</td>\n",
              "      <td>36500.0</td>\n",
              "      <td>0.0</td>\n",
              "    </tr>\n",
              "    <tr>\n",
              "      <th>1</th>\n",
              "      <td>2/18/2010</td>\n",
              "      <td>0.0</td>\n",
              "      <td>2054650.0</td>\n",
              "      <td>0.0</td>\n",
              "      <td>0.0</td>\n",
              "      <td>0.0</td>\n",
              "      <td>0.000241</td>\n",
              "      <td>0</td>\n",
              "      <td>1.0</td>\n",
              "      <td>0.0</td>\n",
              "      <td>0.000029</td>\n",
              "      <td>2.527738</td>\n",
              "      <td>0.0</td>\n",
              "      <td>0.0</td>\n",
              "      <td>154.463801</td>\n",
              "      <td>0.0</td>\n",
              "      <td>234</td>\n",
              "      <td>235</td>\n",
              "      <td>41475</td>\n",
              "      <td>235</td>\n",
              "      <td>235</td>\n",
              "      <td>18911.74</td>\n",
              "      <td>7413.0</td>\n",
              "      <td>0.0</td>\n",
              "    </tr>\n",
              "    <tr>\n",
              "      <th>2</th>\n",
              "      <td>2/19/2010</td>\n",
              "      <td>0.0</td>\n",
              "      <td>2063600.0</td>\n",
              "      <td>0.0</td>\n",
              "      <td>0.0</td>\n",
              "      <td>0.0</td>\n",
              "      <td>0.000228</td>\n",
              "      <td>0</td>\n",
              "      <td>1.0</td>\n",
              "      <td>0.0</td>\n",
              "      <td>0.000023</td>\n",
              "      <td>2.527738</td>\n",
              "      <td>0.0</td>\n",
              "      <td>0.0</td>\n",
              "      <td>1278.516635</td>\n",
              "      <td>0.0</td>\n",
              "      <td>185</td>\n",
              "      <td>183</td>\n",
              "      <td>41658</td>\n",
              "      <td>183</td>\n",
              "      <td>183</td>\n",
              "      <td>9749.98</td>\n",
              "      <td>700.0</td>\n",
              "      <td>0.0</td>\n",
              "    </tr>\n",
              "    <tr>\n",
              "      <th>3</th>\n",
              "      <td>2/20/2010</td>\n",
              "      <td>0.0</td>\n",
              "      <td>2074700.0</td>\n",
              "      <td>0.0</td>\n",
              "      <td>0.0</td>\n",
              "      <td>0.0</td>\n",
              "      <td>0.000218</td>\n",
              "      <td>0</td>\n",
              "      <td>1.0</td>\n",
              "      <td>0.0</td>\n",
              "      <td>0.000028</td>\n",
              "      <td>2.527738</td>\n",
              "      <td>0.0</td>\n",
              "      <td>0.0</td>\n",
              "      <td>22186.687990</td>\n",
              "      <td>0.0</td>\n",
              "      <td>224</td>\n",
              "      <td>224</td>\n",
              "      <td>41882</td>\n",
              "      <td>224</td>\n",
              "      <td>224</td>\n",
              "      <td>11150.03</td>\n",
              "      <td>50.0</td>\n",
              "      <td>0.0</td>\n",
              "    </tr>\n",
              "    <tr>\n",
              "      <th>4</th>\n",
              "      <td>2/21/2010</td>\n",
              "      <td>0.0</td>\n",
              "      <td>2085400.0</td>\n",
              "      <td>0.0</td>\n",
              "      <td>0.0</td>\n",
              "      <td>0.0</td>\n",
              "      <td>0.000234</td>\n",
              "      <td>0</td>\n",
              "      <td>1.0</td>\n",
              "      <td>0.0</td>\n",
              "      <td>0.000027</td>\n",
              "      <td>2.527738</td>\n",
              "      <td>0.0</td>\n",
              "      <td>0.0</td>\n",
              "      <td>689.179876</td>\n",
              "      <td>0.0</td>\n",
              "      <td>218</td>\n",
              "      <td>218</td>\n",
              "      <td>42100</td>\n",
              "      <td>218</td>\n",
              "      <td>218</td>\n",
              "      <td>12266.83</td>\n",
              "      <td>1553.0</td>\n",
              "      <td>0.0</td>\n",
              "    </tr>\n",
              "  </tbody>\n",
              "</table>\n",
              "</div>"
            ],
            "text/plain": [
              "        Date  ...  btc_estimated_transaction_volume_usd\n",
              "0  2/17/2010  ...                                   0.0\n",
              "1  2/18/2010  ...                                   0.0\n",
              "2  2/19/2010  ...                                   0.0\n",
              "3  2/20/2010  ...                                   0.0\n",
              "4  2/21/2010  ...                                   0.0\n",
              "\n",
              "[5 rows x 24 columns]"
            ]
          },
          "metadata": {},
          "execution_count": 1
        }
      ]
    },
    {
      "cell_type": "code",
      "metadata": {
        "colab": {
          "base_uri": "https://localhost:8080/",
          "height": 317
        },
        "id": "_h0uzDTHoAHA",
        "outputId": "3b796f36-21c3-4d0f-c93a-9243d272dddf"
      },
      "source": [
        "df.describe()"
      ],
      "execution_count": 2,
      "outputs": [
        {
          "output_type": "execute_result",
          "data": {
            "text/html": [
              "<div>\n",
              "<style scoped>\n",
              "    .dataframe tbody tr th:only-of-type {\n",
              "        vertical-align: middle;\n",
              "    }\n",
              "\n",
              "    .dataframe tbody tr th {\n",
              "        vertical-align: top;\n",
              "    }\n",
              "\n",
              "    .dataframe thead th {\n",
              "        text-align: right;\n",
              "    }\n",
              "</style>\n",
              "<table border=\"1\" class=\"dataframe\">\n",
              "  <thead>\n",
              "    <tr style=\"text-align: right;\">\n",
              "      <th></th>\n",
              "      <th>btc_market_price</th>\n",
              "      <th>btc_total_bitcoins</th>\n",
              "      <th>btc_market_cap</th>\n",
              "      <th>btc_trade_volume</th>\n",
              "      <th>btc_blocks_size</th>\n",
              "      <th>btc_avg_block_size</th>\n",
              "      <th>btc_n_orphaned_blocks</th>\n",
              "      <th>btc_n_transactions_per_block</th>\n",
              "      <th>btc_median_confirmation_time</th>\n",
              "      <th>btc_hash_rate</th>\n",
              "      <th>btc_difficulty</th>\n",
              "      <th>btc_miners_revenue</th>\n",
              "      <th>btc_transaction_fees</th>\n",
              "      <th>btc_cost_per_transaction_percent</th>\n",
              "      <th>btc_cost_per_transaction</th>\n",
              "      <th>btc_n_unique_addresses</th>\n",
              "      <th>btc_n_transactions</th>\n",
              "      <th>btc_n_transactions_total</th>\n",
              "      <th>btc_n_transactions_excluding_popular</th>\n",
              "      <th>btc_n_transactions_excluding_chains_longer_than_100</th>\n",
              "      <th>btc_output_volume</th>\n",
              "      <th>btc_estimated_transaction_volume</th>\n",
              "      <th>btc_estimated_transaction_volume_usd</th>\n",
              "    </tr>\n",
              "  </thead>\n",
              "  <tbody>\n",
              "    <tr>\n",
              "      <th>count</th>\n",
              "      <td>2906.000000</td>\n",
              "      <td>2.879000e+03</td>\n",
              "      <td>2.906000e+03</td>\n",
              "      <td>2.885000e+03</td>\n",
              "      <td>2877.000000</td>\n",
              "      <td>2906.000000</td>\n",
              "      <td>2906.000000</td>\n",
              "      <td>2906.000000</td>\n",
              "      <td>2894.000000</td>\n",
              "      <td>2.906000e+03</td>\n",
              "      <td>2.890000e+03</td>\n",
              "      <td>2.906000e+03</td>\n",
              "      <td>2896.000000</td>\n",
              "      <td>2906.000000</td>\n",
              "      <td>2906.000000</td>\n",
              "      <td>2.906000e+03</td>\n",
              "      <td>2906.000000</td>\n",
              "      <td>2.906000e+03</td>\n",
              "      <td>2906.000000</td>\n",
              "      <td>2906.000000</td>\n",
              "      <td>2.906000e+03</td>\n",
              "      <td>2.906000e+03</td>\n",
              "      <td>2.906000e+03</td>\n",
              "    </tr>\n",
              "    <tr>\n",
              "      <th>mean</th>\n",
              "      <td>839.104218</td>\n",
              "      <td>1.151138e+07</td>\n",
              "      <td>1.344352e+10</td>\n",
              "      <td>7.398381e+07</td>\n",
              "      <td>35505.502848</td>\n",
              "      <td>0.350366</td>\n",
              "      <td>0.364074</td>\n",
              "      <td>671.673651</td>\n",
              "      <td>7.501113</td>\n",
              "      <td>1.244070e+06</td>\n",
              "      <td>1.606360e+11</td>\n",
              "      <td>2.184353e+06</td>\n",
              "      <td>60.434503</td>\n",
              "      <td>66.747821</td>\n",
              "      <td>14.639125</td>\n",
              "      <td>1.937861e+05</td>\n",
              "      <td>102081.138334</td>\n",
              "      <td>6.844558e+07</td>\n",
              "      <td>94348.852374</td>\n",
              "      <td>63140.320028</td>\n",
              "      <td>1.566216e+06</td>\n",
              "      <td>2.036475e+05</td>\n",
              "      <td>2.024338e+08</td>\n",
              "    </tr>\n",
              "    <tr>\n",
              "      <th>std</th>\n",
              "      <td>2304.972497</td>\n",
              "      <td>4.200024e+06</td>\n",
              "      <td>3.866841e+10</td>\n",
              "      <td>2.924228e+08</td>\n",
              "      <td>43618.633821</td>\n",
              "      <td>0.353168</td>\n",
              "      <td>0.842259</td>\n",
              "      <td>689.561322</td>\n",
              "      <td>4.974549</td>\n",
              "      <td>2.924141e+06</td>\n",
              "      <td>3.725159e+11</td>\n",
              "      <td>5.669939e+06</td>\n",
              "      <td>117.737162</td>\n",
              "      <td>1761.894646</td>\n",
              "      <td>20.536083</td>\n",
              "      <td>2.089146e+05</td>\n",
              "      <td>103896.929350</td>\n",
              "      <td>8.285341e+07</td>\n",
              "      <td>103966.111763</td>\n",
              "      <td>69687.052174</td>\n",
              "      <td>2.278910e+06</td>\n",
              "      <td>2.682781e+05</td>\n",
              "      <td>5.800513e+08</td>\n",
              "    </tr>\n",
              "    <tr>\n",
              "      <th>min</th>\n",
              "      <td>0.000000</td>\n",
              "      <td>2.043200e+06</td>\n",
              "      <td>0.000000e+00</td>\n",
              "      <td>0.000000e+00</td>\n",
              "      <td>0.000000</td>\n",
              "      <td>0.000216</td>\n",
              "      <td>0.000000</td>\n",
              "      <td>1.000000</td>\n",
              "      <td>0.000000</td>\n",
              "      <td>2.250000e-05</td>\n",
              "      <td>2.527738e+00</td>\n",
              "      <td>0.000000e+00</td>\n",
              "      <td>0.000000</td>\n",
              "      <td>0.136531</td>\n",
              "      <td>0.000000</td>\n",
              "      <td>1.100000e+02</td>\n",
              "      <td>118.000000</td>\n",
              "      <td>4.124000e+04</td>\n",
              "      <td>118.000000</td>\n",
              "      <td>118.000000</td>\n",
              "      <td>6.150000e+03</td>\n",
              "      <td>7.000000e+00</td>\n",
              "      <td>0.000000e+00</td>\n",
              "    </tr>\n",
              "    <tr>\n",
              "      <th>25%</th>\n",
              "      <td>6.653465</td>\n",
              "      <td>8.485300e+06</td>\n",
              "      <td>5.363081e+07</td>\n",
              "      <td>2.916456e+05</td>\n",
              "      <td>781.000000</td>\n",
              "      <td>0.024177</td>\n",
              "      <td>0.000000</td>\n",
              "      <td>54.000000</td>\n",
              "      <td>6.066667</td>\n",
              "      <td>1.160880e+01</td>\n",
              "      <td>1.591075e+06</td>\n",
              "      <td>4.659125e+04</td>\n",
              "      <td>9.472422</td>\n",
              "      <td>1.181945</td>\n",
              "      <td>4.156470</td>\n",
              "      <td>1.675475e+04</td>\n",
              "      <td>8025.250000</td>\n",
              "      <td>2.413376e+06</td>\n",
              "      <td>6813.500000</td>\n",
              "      <td>6765.500000</td>\n",
              "      <td>4.901712e+05</td>\n",
              "      <td>9.600325e+04</td>\n",
              "      <td>9.581680e+05</td>\n",
              "    </tr>\n",
              "    <tr>\n",
              "      <th>50%</th>\n",
              "      <td>235.130000</td>\n",
              "      <td>1.243115e+07</td>\n",
              "      <td>3.346869e+09</td>\n",
              "      <td>1.001414e+07</td>\n",
              "      <td>15183.000000</td>\n",
              "      <td>0.196022</td>\n",
              "      <td>0.000000</td>\n",
              "      <td>375.000000</td>\n",
              "      <td>7.916667</td>\n",
              "      <td>2.176189e+04</td>\n",
              "      <td>2.193848e+09</td>\n",
              "      <td>8.716363e+05</td>\n",
              "      <td>20.415194</td>\n",
              "      <td>2.493564</td>\n",
              "      <td>7.822430</td>\n",
              "      <td>1.304450e+05</td>\n",
              "      <td>62337.000000</td>\n",
              "      <td>3.255271e+07</td>\n",
              "      <td>53483.000000</td>\n",
              "      <td>35283.500000</td>\n",
              "      <td>1.105205e+06</td>\n",
              "      <td>1.784685e+05</td>\n",
              "      <td>3.742576e+07</td>\n",
              "    </tr>\n",
              "    <tr>\n",
              "      <th>75%</th>\n",
              "      <td>594.191164</td>\n",
              "      <td>1.520051e+07</td>\n",
              "      <td>8.075525e+09</td>\n",
              "      <td>2.834038e+07</td>\n",
              "      <td>58293.000000</td>\n",
              "      <td>0.676065</td>\n",
              "      <td>0.000000</td>\n",
              "      <td>1232.995223</td>\n",
              "      <td>10.208333</td>\n",
              "      <td>1.035363e+06</td>\n",
              "      <td>1.130000e+11</td>\n",
              "      <td>1.827683e+06</td>\n",
              "      <td>49.627982</td>\n",
              "      <td>5.915591</td>\n",
              "      <td>14.800589</td>\n",
              "      <td>3.603765e+05</td>\n",
              "      <td>190471.250000</td>\n",
              "      <td>1.080663e+08</td>\n",
              "      <td>185901.750000</td>\n",
              "      <td>113793.250000</td>\n",
              "      <td>2.031654e+06</td>\n",
              "      <td>2.588046e+05</td>\n",
              "      <td>1.312499e+08</td>\n",
              "    </tr>\n",
              "    <tr>\n",
              "      <th>max</th>\n",
              "      <td>19498.683330</td>\n",
              "      <td>1.683769e+07</td>\n",
              "      <td>3.270000e+11</td>\n",
              "      <td>5.352016e+09</td>\n",
              "      <td>154444.590300</td>\n",
              "      <td>1.110327</td>\n",
              "      <td>7.000000</td>\n",
              "      <td>2722.625000</td>\n",
              "      <td>47.733333</td>\n",
              "      <td>2.160975e+07</td>\n",
              "      <td>2.600000e+12</td>\n",
              "      <td>5.319158e+07</td>\n",
              "      <td>1495.946477</td>\n",
              "      <td>88571.428570</td>\n",
              "      <td>161.686071</td>\n",
              "      <td>1.072861e+06</td>\n",
              "      <td>490644.000000</td>\n",
              "      <td>2.966888e+08</td>\n",
              "      <td>470650.000000</td>\n",
              "      <td>318896.000000</td>\n",
              "      <td>4.599222e+07</td>\n",
              "      <td>5.825066e+06</td>\n",
              "      <td>5.760245e+09</td>\n",
              "    </tr>\n",
              "  </tbody>\n",
              "</table>\n",
              "</div>"
            ],
            "text/plain": [
              "       btc_market_price  ...  btc_estimated_transaction_volume_usd\n",
              "count       2906.000000  ...                          2.906000e+03\n",
              "mean         839.104218  ...                          2.024338e+08\n",
              "std         2304.972497  ...                          5.800513e+08\n",
              "min            0.000000  ...                          0.000000e+00\n",
              "25%            6.653465  ...                          9.581680e+05\n",
              "50%          235.130000  ...                          3.742576e+07\n",
              "75%          594.191164  ...                          1.312499e+08\n",
              "max        19498.683330  ...                          5.760245e+09\n",
              "\n",
              "[8 rows x 23 columns]"
            ]
          },
          "metadata": {},
          "execution_count": 2
        }
      ]
    },
    {
      "cell_type": "code",
      "metadata": {
        "colab": {
          "base_uri": "https://localhost:8080/"
        },
        "id": "4TV7fzuiog2i",
        "outputId": "1e345cd1-22b3-4559-b61d-21ab6df7d61a"
      },
      "source": [
        "print(df.btc_market_price[1023])"
      ],
      "execution_count": 3,
      "outputs": [
        {
          "output_type": "stream",
          "name": "stdout",
          "text": [
            "13.6888\n"
          ]
        }
      ]
    },
    {
      "cell_type": "markdown",
      "metadata": {
        "id": "1ZduZ_q-asRj"
      },
      "source": [
        "**since we need to predict the price of bitcoins, 'btc_market_price' is the desired output variable.**\n",
        "\n",
        "\n"
      ]
    },
    {
      "cell_type": "markdown",
      "metadata": {
        "id": "2FOYHMV7cbHi"
      },
      "source": [
        "# Exploratory data analysis"
      ]
    },
    {
      "cell_type": "markdown",
      "metadata": {
        "id": "NfWLo5JedOCD"
      },
      "source": [
        "we can perform Exploratory Data Analysis(EDA) to decide which features correlate with our desired output variable. It will help us to decide which features to take up and which to discard"
      ]
    },
    {
      "cell_type": "markdown",
      "metadata": {
        "id": "UtXXXhpQiFCh"
      },
      "source": [
        "Pandas **dataframe.corr()** is used to find the pairwise correlation of all columns in the dataframe. Any na values are automatically excluded. For any non-numeric data type columns in the dataframe it is ignored.**The correlation of a variable with itself is 1.**"
      ]
    },
    {
      "cell_type": "code",
      "metadata": {
        "colab": {
          "base_uri": "https://localhost:8080/",
          "height": 224
        },
        "id": "_ZrqBjMKlbM-",
        "outputId": "f6183977-7484-4b8e-b3ee-6b87d83e608b"
      },
      "source": [
        "df.corr(method='pearson').head()"
      ],
      "execution_count": 4,
      "outputs": [
        {
          "output_type": "execute_result",
          "data": {
            "text/html": [
              "<div>\n",
              "<style scoped>\n",
              "    .dataframe tbody tr th:only-of-type {\n",
              "        vertical-align: middle;\n",
              "    }\n",
              "\n",
              "    .dataframe tbody tr th {\n",
              "        vertical-align: top;\n",
              "    }\n",
              "\n",
              "    .dataframe thead th {\n",
              "        text-align: right;\n",
              "    }\n",
              "</style>\n",
              "<table border=\"1\" class=\"dataframe\">\n",
              "  <thead>\n",
              "    <tr style=\"text-align: right;\">\n",
              "      <th></th>\n",
              "      <th>btc_market_price</th>\n",
              "      <th>btc_total_bitcoins</th>\n",
              "      <th>btc_market_cap</th>\n",
              "      <th>btc_trade_volume</th>\n",
              "      <th>btc_blocks_size</th>\n",
              "      <th>btc_avg_block_size</th>\n",
              "      <th>btc_n_orphaned_blocks</th>\n",
              "      <th>btc_n_transactions_per_block</th>\n",
              "      <th>btc_median_confirmation_time</th>\n",
              "      <th>btc_hash_rate</th>\n",
              "      <th>btc_difficulty</th>\n",
              "      <th>btc_miners_revenue</th>\n",
              "      <th>btc_transaction_fees</th>\n",
              "      <th>btc_cost_per_transaction_percent</th>\n",
              "      <th>btc_cost_per_transaction</th>\n",
              "      <th>btc_n_unique_addresses</th>\n",
              "      <th>btc_n_transactions</th>\n",
              "      <th>btc_n_transactions_total</th>\n",
              "      <th>btc_n_transactions_excluding_popular</th>\n",
              "      <th>btc_n_transactions_excluding_chains_longer_than_100</th>\n",
              "      <th>btc_output_volume</th>\n",
              "      <th>btc_estimated_transaction_volume</th>\n",
              "      <th>btc_estimated_transaction_volume_usd</th>\n",
              "    </tr>\n",
              "  </thead>\n",
              "  <tbody>\n",
              "    <tr>\n",
              "      <th>btc_market_price</th>\n",
              "      <td>1.000000</td>\n",
              "      <td>0.392474</td>\n",
              "      <td>0.999783</td>\n",
              "      <td>0.868813</td>\n",
              "      <td>0.674507</td>\n",
              "      <td>0.544033</td>\n",
              "      <td>-0.076400</td>\n",
              "      <td>0.544125</td>\n",
              "      <td>0.275250</td>\n",
              "      <td>0.920876</td>\n",
              "      <td>0.916937</td>\n",
              "      <td>0.986732</td>\n",
              "      <td>0.806595</td>\n",
              "      <td>-0.013517</td>\n",
              "      <td>0.815507</td>\n",
              "      <td>0.663917</td>\n",
              "      <td>0.569603</td>\n",
              "      <td>0.680048</td>\n",
              "      <td>0.558416</td>\n",
              "      <td>0.567281</td>\n",
              "      <td>0.111734</td>\n",
              "      <td>0.050894</td>\n",
              "      <td>0.968308</td>\n",
              "    </tr>\n",
              "    <tr>\n",
              "      <th>btc_total_bitcoins</th>\n",
              "      <td>0.392474</td>\n",
              "      <td>1.000000</td>\n",
              "      <td>0.384568</td>\n",
              "      <td>0.285815</td>\n",
              "      <td>0.779705</td>\n",
              "      <td>0.851554</td>\n",
              "      <td>0.274925</td>\n",
              "      <td>0.831414</td>\n",
              "      <td>0.668119</td>\n",
              "      <td>0.488668</td>\n",
              "      <td>0.497603</td>\n",
              "      <td>0.383108</td>\n",
              "      <td>0.472122</td>\n",
              "      <td>-0.079864</td>\n",
              "      <td>0.372758</td>\n",
              "      <td>0.820595</td>\n",
              "      <td>0.832865</td>\n",
              "      <td>0.782652</td>\n",
              "      <td>0.814721</td>\n",
              "      <td>0.800405</td>\n",
              "      <td>0.290952</td>\n",
              "      <td>0.211814</td>\n",
              "      <td>0.387920</td>\n",
              "    </tr>\n",
              "    <tr>\n",
              "      <th>btc_market_cap</th>\n",
              "      <td>0.999783</td>\n",
              "      <td>0.384568</td>\n",
              "      <td>1.000000</td>\n",
              "      <td>0.869316</td>\n",
              "      <td>0.672863</td>\n",
              "      <td>0.541310</td>\n",
              "      <td>-0.080742</td>\n",
              "      <td>0.541702</td>\n",
              "      <td>0.271929</td>\n",
              "      <td>0.922073</td>\n",
              "      <td>0.918065</td>\n",
              "      <td>0.985417</td>\n",
              "      <td>0.807109</td>\n",
              "      <td>-0.012923</td>\n",
              "      <td>0.805645</td>\n",
              "      <td>0.660720</td>\n",
              "      <td>0.566857</td>\n",
              "      <td>0.678081</td>\n",
              "      <td>0.555674</td>\n",
              "      <td>0.564791</td>\n",
              "      <td>0.112410</td>\n",
              "      <td>0.051356</td>\n",
              "      <td>0.968533</td>\n",
              "    </tr>\n",
              "    <tr>\n",
              "      <th>btc_trade_volume</th>\n",
              "      <td>0.868813</td>\n",
              "      <td>0.285815</td>\n",
              "      <td>0.869316</td>\n",
              "      <td>1.000000</td>\n",
              "      <td>0.521061</td>\n",
              "      <td>0.416060</td>\n",
              "      <td>-0.068798</td>\n",
              "      <td>0.430265</td>\n",
              "      <td>0.216617</td>\n",
              "      <td>0.758304</td>\n",
              "      <td>0.754650</td>\n",
              "      <td>0.875005</td>\n",
              "      <td>0.733812</td>\n",
              "      <td>-0.009456</td>\n",
              "      <td>0.691630</td>\n",
              "      <td>0.539430</td>\n",
              "      <td>0.453644</td>\n",
              "      <td>0.525484</td>\n",
              "      <td>0.441964</td>\n",
              "      <td>0.449660</td>\n",
              "      <td>0.097722</td>\n",
              "      <td>0.056079</td>\n",
              "      <td>0.896016</td>\n",
              "    </tr>\n",
              "    <tr>\n",
              "      <th>btc_blocks_size</th>\n",
              "      <td>0.674507</td>\n",
              "      <td>0.779705</td>\n",
              "      <td>0.672863</td>\n",
              "      <td>0.521061</td>\n",
              "      <td>1.000000</td>\n",
              "      <td>0.955978</td>\n",
              "      <td>0.050864</td>\n",
              "      <td>0.946702</td>\n",
              "      <td>0.511763</td>\n",
              "      <td>0.826119</td>\n",
              "      <td>0.841630</td>\n",
              "      <td>0.622620</td>\n",
              "      <td>0.745205</td>\n",
              "      <td>-0.030112</td>\n",
              "      <td>0.443102</td>\n",
              "      <td>0.966650</td>\n",
              "      <td>0.950189</td>\n",
              "      <td>0.999785</td>\n",
              "      <td>0.951959</td>\n",
              "      <td>0.961206</td>\n",
              "      <td>0.251049</td>\n",
              "      <td>0.152055</td>\n",
              "      <td>0.672394</td>\n",
              "    </tr>\n",
              "  </tbody>\n",
              "</table>\n",
              "</div>"
            ],
            "text/plain": [
              "                    btc_market_price  ...  btc_estimated_transaction_volume_usd\n",
              "btc_market_price            1.000000  ...                              0.968308\n",
              "btc_total_bitcoins          0.392474  ...                              0.387920\n",
              "btc_market_cap              0.999783  ...                              0.968533\n",
              "btc_trade_volume            0.868813  ...                              0.896016\n",
              "btc_blocks_size             0.674507  ...                              0.672394\n",
              "\n",
              "[5 rows x 23 columns]"
            ]
          },
          "metadata": {},
          "execution_count": 4
        }
      ]
    },
    {
      "cell_type": "markdown",
      "metadata": {
        "id": "FsQYktfH3iSk"
      },
      "source": [
        "here **btc_market_cap** feature shows perfect correlation with btc_market_price since correlation coefficient is close to 1 in this case"
      ]
    },
    {
      "cell_type": "code",
      "metadata": {
        "id": "Bm_kaIlW4dQS"
      },
      "source": [
        "import seaborn as sns\n",
        "import matplotlib.pyplot as plt"
      ],
      "execution_count": 5,
      "outputs": []
    },
    {
      "cell_type": "code",
      "metadata": {
        "colab": {
          "base_uri": "https://localhost:8080/",
          "height": 458
        },
        "id": "fhkqEmQg5SBb",
        "outputId": "b438740e-f81a-48bd-e98b-7ebdbafa00fa"
      },
      "source": [
        "sns.jointplot(data=df,x=\"btc_market_price\",y=\"btc_market_cap\")"
      ],
      "execution_count": 6,
      "outputs": [
        {
          "output_type": "execute_result",
          "data": {
            "text/plain": [
              "<seaborn.axisgrid.JointGrid at 0x7fa66eb0e550>"
            ]
          },
          "metadata": {},
          "execution_count": 6
        },
        {
          "output_type": "display_data",
          "data": {
            "image/png": "[encoded data removed]",
            "text/plain": [
              "<Figure size 432x432 with 3 Axes>"
            ]
          },
          "metadata": {
            "needs_background": "light"
          }
        }
      ]
    },
    {
      "cell_type": "markdown",
      "metadata": {
        "id": "Lnta4-OL5ZER"
      },
      "source": [
        "## Cleaning data"
      ]
    },
    {
      "cell_type": "code",
      "metadata": {
        "colab": {
          "base_uri": "https://localhost:8080/"
        },
        "id": "NWWY-Ee-55pp",
        "outputId": "9cb48dc0-c00e-4ef6-f4f3-2d207514cc7d"
      },
      "source": [
        "df.isnull().sum() #checking for NaN values"
      ],
      "execution_count": 7,
      "outputs": [
        {
          "output_type": "execute_result",
          "data": {
            "text/plain": [
              "Date                                                    0\n",
              "btc_market_price                                        0\n",
              "btc_total_bitcoins                                     27\n",
              "btc_market_cap                                          0\n",
              "btc_trade_volume                                       21\n",
              "btc_blocks_size                                        29\n",
              "btc_avg_block_size                                      0\n",
              "btc_n_orphaned_blocks                                   0\n",
              "btc_n_transactions_per_block                            0\n",
              "btc_median_confirmation_time                           12\n",
              "btc_hash_rate                                           0\n",
              "btc_difficulty                                         16\n",
              "btc_miners_revenue                                      0\n",
              "btc_transaction_fees                                   10\n",
              "btc_cost_per_transaction_percent                        0\n",
              "btc_cost_per_transaction                                0\n",
              "btc_n_unique_addresses                                  0\n",
              "btc_n_transactions                                      0\n",
              "btc_n_transactions_total                                0\n",
              "btc_n_transactions_excluding_popular                    0\n",
              "btc_n_transactions_excluding_chains_longer_than_100     0\n",
              "btc_output_volume                                       0\n",
              "btc_estimated_transaction_volume                        0\n",
              "btc_estimated_transaction_volume_usd                    0\n",
              "dtype: int64"
            ]
          },
          "metadata": {},
          "execution_count": 7
        }
      ]
    },
    {
      "cell_type": "code",
      "metadata": {
        "id": "sZPlWgkD7XEV"
      },
      "source": [
        "df=df.fillna(0) #replacing null values with 0"
      ],
      "execution_count": 8,
      "outputs": []
    },
    {
      "cell_type": "markdown",
      "metadata": {
        "id": "o6zWxZkfAHhX"
      },
      "source": [
        "## choosing features"
      ]
    },
    {
      "cell_type": "code",
      "metadata": {
        "id": "G5pTrWQLguYt"
      },
      "source": [
        "price_features=['btc_market_cap','btc_n_transactions','btc_miners_revenue','btc_cost_per_transaction','btc_difficulty','btc_hash_rate','btc_cost_per_transaction_percent']\n",
        "X=df[price_features]"
      ],
      "execution_count": 9,
      "outputs": []
    },
    {
      "cell_type": "code",
      "metadata": {
        "id": "sQDHBa59hG5V"
      },
      "source": [
        "y=df['btc_market_price']"
      ],
      "execution_count": 10,
      "outputs": []
    },
    {
      "cell_type": "markdown",
      "metadata": {
        "id": "EzHkybFehMhd"
      },
      "source": [
        "## splitting dataset"
      ]
    },
    {
      "cell_type": "code",
      "metadata": {
        "id": "DFFAjNNphT5I"
      },
      "source": [
        "from sklearn.model_selection import train_test_split\n",
        "X_train,X_test,y_train,y_test=train_test_split(X,y,test_size=0.2,random_state=0)\n"
      ],
      "execution_count": 11,
      "outputs": []
    },
    {
      "cell_type": "markdown",
      "metadata": {
        "id": "eORKQQXbh6Zn"
      },
      "source": [
        "## Defining model"
      ]
    },
    {
      "cell_type": "code",
      "metadata": {
        "colab": {
          "base_uri": "https://localhost:8080/"
        },
        "id": "Xl7_3ZWeiBsB",
        "outputId": "7d35e946-584f-4edf-a83f-b02ce47b8d40"
      },
      "source": [
        "from sklearn.linear_model import LinearRegression\n",
        "model=LinearRegression()\n",
        "model.fit(X_train,y_train)"
      ],
      "execution_count": 12,
      "outputs": [
        {
          "output_type": "execute_result",
          "data": {
            "text/plain": [
              "LinearRegression(copy_X=True, fit_intercept=True, n_jobs=None, normalize=False)"
            ]
          },
          "metadata": {},
          "execution_count": 12
        }
      ]
    },
    {
      "cell_type": "markdown",
      "metadata": {
        "id": "jRmun56pix_E"
      },
      "source": [
        "## Predicting"
      ]
    },
    {
      "cell_type": "code",
      "metadata": {
        "id": "Uh5D-Jzvi99N"
      },
      "source": [
        "y_pred=model.predict(X_test)"
      ],
      "execution_count": 13,
      "outputs": []
    },
    {
      "cell_type": "markdown",
      "metadata": {
        "id": "-MniuFN2jG33"
      },
      "source": [
        "## Evaluating performance"
      ]
    },
    {
      "cell_type": "code",
      "metadata": {
        "colab": {
          "base_uri": "https://localhost:8080/"
        },
        "id": "zLoCPQbljVXL",
        "outputId": "7dd6f18d-ab42-4af1-cb0b-bf5a50a92808"
      },
      "source": [
        "from sklearn import metrics\n",
        "print(\"Mean squared Error:\",metrics.mean_squared_error(y_test,y_pred))"
      ],
      "execution_count": 14,
      "outputs": [
        {
          "output_type": "stream",
          "name": "stdout",
          "text": [
            "Mean squared Error: 438.7949676062714\n"
          ]
        }
      ]
    }
  ]
}